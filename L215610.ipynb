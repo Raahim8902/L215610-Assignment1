{
 "cells": [
  {
   "cell_type": "markdown",
   "id": "08eeef2f",
   "metadata": {},
   "source": [
    "## Question Number 1"
   ]
  },
  {
   "cell_type": "code",
   "execution_count": 11,
   "id": "b3294aae",
   "metadata": {},
   "outputs": [
    {
     "name": "stdout",
     "output_type": "stream",
     "text": [
      "True\n",
      "False\n",
      "False\n"
     ]
    }
   ],
   "source": [
    "def check_input(array):\n",
    "    rcount = 0\n",
    "    ccount = 0\n",
    "    x = len(array[0])\n",
    "    for i in range(0,x):\n",
    "        for j in range(1,x):\n",
    "            if(array[i][0]==array[i][j] or type(array[i][j])==str):\n",
    "                rcount = rcount + 1\n",
    "    \n",
    "    for j in range(0,3):\n",
    "        for i in range(1,3):\n",
    "            if(array[0][j]==array[i][j] or type(array[i][j])==str):\n",
    "                ccount = ccount + 1\n",
    "    if(rcount==0 and ccount==0):\n",
    "        return True\n",
    "    else:\n",
    "        return False\n",
    "\n",
    "\n",
    "\n",
    "test1 = [[1, 2, 3],\n",
    "        [2, 3, 1],\n",
    "        [3, 1, 2]]\n",
    "\n",
    "test2 = [[1, 2, 3, 4],\n",
    "        [2, 3, 1, 3],\n",
    "        [3, 1, 2, 3],\n",
    "        [4, 4, 4, 4]]\n",
    "\n",
    "test3 = [['a', 'b', 'c'],\n",
    "        ['b', 'c', 'a'],\n",
    "        ['c', 'a', 'b']]\n",
    "\n",
    "print(check_input(test1)) # must return true\n",
    "print(check_input(test2)) # must return false\n",
    "print(check_input(test3)) # must return false"
   ]
  },
  {
   "cell_type": "markdown",
   "id": "490ddd2c",
   "metadata": {},
   "source": [
    "## Question Number 2"
   ]
  },
  {
   "cell_type": "markdown",
   "id": "5732f07b",
   "metadata": {},
   "source": [
    "## Part A"
   ]
  },
  {
   "cell_type": "code",
   "execution_count": 12,
   "id": "e67667dd",
   "metadata": {},
   "outputs": [
    {
     "data": {
      "text/html": [
       "<div>\n",
       "<style scoped>\n",
       "    .dataframe tbody tr th:only-of-type {\n",
       "        vertical-align: middle;\n",
       "    }\n",
       "\n",
       "    .dataframe tbody tr th {\n",
       "        vertical-align: top;\n",
       "    }\n",
       "\n",
       "    .dataframe thead th {\n",
       "        text-align: right;\n",
       "    }\n",
       "</style>\n",
       "<table border=\"1\" class=\"dataframe\">\n",
       "  <thead>\n",
       "    <tr style=\"text-align: right;\">\n",
       "      <th></th>\n",
       "      <th>Student name</th>\n",
       "      <th>Exam name</th>\n",
       "      <th>Exam date</th>\n",
       "      <th>Marks</th>\n",
       "    </tr>\n",
       "  </thead>\n",
       "  <tbody>\n",
       "    <tr>\n",
       "      <th>0</th>\n",
       "      <td>James Walker</td>\n",
       "      <td>Biology</td>\n",
       "      <td>05/06/2016</td>\n",
       "      <td>31.0</td>\n",
       "    </tr>\n",
       "    <tr>\n",
       "      <th>1</th>\n",
       "      <td>Velma Clemons</td>\n",
       "      <td>Biology</td>\n",
       "      <td>05/06/2016</td>\n",
       "      <td>43.0</td>\n",
       "    </tr>\n",
       "    <tr>\n",
       "      <th>2</th>\n",
       "      <td>Kibo Underwood</td>\n",
       "      <td>Biology</td>\n",
       "      <td>05/06/2016</td>\n",
       "      <td>81.0</td>\n",
       "    </tr>\n",
       "    <tr>\n",
       "      <th>3</th>\n",
       "      <td>Louis Mcgee</td>\n",
       "      <td>Biology</td>\n",
       "      <td>05/06/2016</td>\n",
       "      <td>11.0</td>\n",
       "    </tr>\n",
       "    <tr>\n",
       "      <th>4</th>\n",
       "      <td>Phyllis Paul</td>\n",
       "      <td>Biology</td>\n",
       "      <td>05/06/2016</td>\n",
       "      <td>18.0</td>\n",
       "    </tr>\n",
       "  </tbody>\n",
       "</table>\n",
       "</div>"
      ],
      "text/plain": [
       "     Student name Exam name   Exam date  Marks\n",
       "0    James Walker   Biology  05/06/2016   31.0\n",
       "1   Velma Clemons   Biology  05/06/2016   43.0\n",
       "2  Kibo Underwood   Biology  05/06/2016   81.0\n",
       "3     Louis Mcgee   Biology  05/06/2016   11.0\n",
       "4    Phyllis Paul   Biology  05/06/2016   18.0"
      ]
     },
     "execution_count": 12,
     "metadata": {},
     "output_type": "execute_result"
    }
   ],
   "source": [
    "import pandas as pd \n",
    "df = pd.read_csv(\"StudentMarkSheet.csv\")\n",
    "df.head()"
   ]
  },
  {
   "cell_type": "markdown",
   "id": "7a8282e6",
   "metadata": {},
   "source": [
    "## Part B "
   ]
  },
  {
   "cell_type": "code",
   "execution_count": 2,
   "id": "2bff9b1b",
   "metadata": {},
   "outputs": [
    {
     "name": "stdout",
     "output_type": "stream",
     "text": [
      "200\n",
      "4\n",
      "196\n"
     ]
    }
   ],
   "source": [
    "nan_rows = df[df.isna().any(axis=1)]\n",
    "print(len(df))\n",
    "df1=df.dropna()\n",
    "print(len(nan_rows))\n",
    "print(len(df1))"
   ]
  },
  {
   "cell_type": "markdown",
   "id": "475fb456",
   "metadata": {},
   "source": [
    "## Part C"
   ]
  },
  {
   "cell_type": "code",
   "execution_count": 3,
   "id": "99456f3f",
   "metadata": {},
   "outputs": [
    {
     "name": "stdout",
     "output_type": "stream",
     "text": [
      "31.0 , Biology\n"
     ]
    }
   ],
   "source": [
    "jw=df.iloc[0]\n",
    "print(jw['Marks'],\",\",jw['Exam name'])"
   ]
  },
  {
   "cell_type": "markdown",
   "id": "1d93388a",
   "metadata": {},
   "source": [
    "## Question Number 3"
   ]
  },
  {
   "cell_type": "markdown",
   "id": "8594781c",
   "metadata": {},
   "source": [
    "## Part A"
   ]
  },
  {
   "cell_type": "code",
   "execution_count": 4,
   "id": "6bf62758",
   "metadata": {},
   "outputs": [
    {
     "name": "stdout",
     "output_type": "stream",
     "text": [
      "Philosophy:  47.270270270270274\n",
      "Chemistry:  50.57692307692308\n",
      "Biology:  47.89473684210526\n",
      "Mathematic:  48.97222222222222\n",
      "Physics:  51.76190476190476\n",
      "Sociology:  56.026315789473685\n"
     ]
    }
   ],
   "source": [
    "import pandas as pd \n",
    "import numpy as np\n",
    "df=pd.read_csv(\"StudentMarkSheet.csv\")\n",
    "df.head()\n",
    "df['Exam name'].unique()\n",
    "p=df[df['Exam name']=='Philosophy']['Marks'].mean()\n",
    "print(\"Philosophy: \", p)\n",
    "ch=df[df['Exam name']=='Chemistry']['Marks'].mean()\n",
    "print(\"Chemistry: \",ch)\n",
    "bi=df[df['Exam name']=='Biology']['Marks'].mean()\n",
    "print(\"Biology: \",bi)\n",
    "m=df[df['Exam name']=='Mathematics']['Marks'].mean()\n",
    "print(\"Mathematic: \",m )\n",
    "ph=df[df['Exam name']=='Physics']['Marks'].mean()\n",
    "print(\"Physics: \",ph)\n",
    "so=df[df['Exam name']=='Sociology']['Marks'].mean()\n",
    "print(\"Sociology: \",so)\n"
   ]
  },
  {
   "cell_type": "markdown",
   "id": "8eb460c9",
   "metadata": {},
   "source": [
    "## Part B"
   ]
  },
  {
   "cell_type": "code",
   "execution_count": 5,
   "id": "bd859347",
   "metadata": {},
   "outputs": [
    {
     "data": {
      "image/png": "[encoded data removed]",
      "text/plain": [
       "<Figure size 432x288 with 1 Axes>"
      ]
     },
     "metadata": {
      "needs_background": "light"
     },
     "output_type": "display_data"
    }
   ],
   "source": [
    "import matplotlib.pyplot as plt\n",
    "import numpy as np\n",
    "\n",
    "x=np.array([\"Philosophy\",\"Chemistry\",\"Biology\",\"Mathematics\",\"Physics\",\"Sociology\"])\n",
    "y=np.array([p,ch,bi,m,ph,so])\n",
    "\n",
    "\n",
    "plt.title(\"Average Marks vs Subject\")\n",
    "plt.xlabel(\"SUBJCECT\")\n",
    "plt.ylabel(\"AVERAGE MARKS\")\n",
    "plt.bar(x,y)\n",
    "plt.show()"
   ]
  },
  {
   "cell_type": "markdown",
   "id": "ba82b908",
   "metadata": {},
   "source": [
    "## QUESTION NUMBER 4"
   ]
  },
  {
   "cell_type": "markdown",
   "id": "59c536d1",
   "metadata": {},
   "source": [
    "## Part A"
   ]
  },
  {
   "cell_type": "code",
   "execution_count": 6,
   "id": "a96b147c",
   "metadata": {},
   "outputs": [
    {
     "name": "stdout",
     "output_type": "stream",
     "text": [
      "     Tail Length (cm)  Mass (kg)\n",
      "0                18.1      3.750\n",
      "1                18.6      3.800\n",
      "2                19.5      3.250\n",
      "3                19.3      3.450\n",
      "4                19.0      3.650\n",
      "..                ...        ...\n",
      "337              20.7      4.000\n",
      "338              20.2      3.400\n",
      "339              19.3      3.775\n",
      "340              21.0      4.100\n",
      "341              19.8      3.775\n",
      "\n",
      "[342 rows x 2 columns]\n"
     ]
    }
   ],
   "source": [
    "import pandas as pd\n",
    "df=pd.read_csv( \"CatData.csv\")\n",
    "df.head()\n",
    "n=df[df.isnull().any(axis =1)]\n",
    "df = df.dropna()\n",
    "print(df)\n"
   ]
  },
  {
   "cell_type": "markdown",
   "id": "8b589ea5",
   "metadata": {},
   "source": [
    "## Part B"
   ]
  },
  {
   "cell_type": "code",
   "execution_count": null,
   "id": "5b4a5397",
   "metadata": {},
   "outputs": [],
   "source": [
    "# dependant variable: Tail Length \n",
    "# independant variable: Mass"
   ]
  },
  {
   "cell_type": "markdown",
   "id": "4091d7f2",
   "metadata": {},
   "source": [
    "## Part C and D"
   ]
  },
  {
   "cell_type": "code",
   "execution_count": 8,
   "id": "95255bed",
   "metadata": {},
   "outputs": [
    {
     "name": "stdout",
     "output_type": "stream",
     "text": [
      "Slope:  [[0.48913766]]\n",
      "Intercepts:  [-5.57328662]\n"
     ]
    }
   ],
   "source": [
    "import numpy as np\n",
    "import matplotlib.pyplot as plt\n",
    "from sklearn import linear_model\n",
    "\n",
    "num = int(len(df)*0.8)\n",
    "train = df[:num]\n",
    "test =df[num:]\n",
    "\n",
    "reg =linear_model.LinearRegression()\n",
    "train_x=np.array(train[[\"Tail Length (cm)\"]])\n",
    "train_y = np.array(train[[\"Mass (kg)\"]])\n",
    "reg.fit(train_x,train_y)\n",
    "\n",
    "coeff =reg.coef_\n",
    "inter = reg.intercept_\n",
    "\n",
    "print(\"Slope: \" , coeff)\n",
    "print(\"Intercepts: \",inter)"
   ]
  },
  {
   "cell_type": "markdown",
   "id": "9e39c036",
   "metadata": {},
   "source": [
    "## Part D"
   ]
  },
  {
   "cell_type": "code",
   "execution_count": 9,
   "id": "9a7c4880",
   "metadata": {},
   "outputs": [
    {
     "data": {
      "image/png": "[encoded data removed]",
      "text/plain": [
       "<Figure size 432x288 with 1 Axes>"
      ]
     },
     "metadata": {
      "needs_background": "light"
     },
     "output_type": "display_data"
    }
   ],
   "source": [
    "plt.xlabel(\"Tail Length (cm)\")\n",
    "plt.ylabel(\"Mass (Kg)\")\n",
    "plt.title(\"Tail Length vs Mass\")\n",
    "plt.scatter(train[\"Tail Length (cm)\"],train[\"Mass (kg)\"])\n",
    "plt.plot(train_x,train_x*coeff[0]+inter,color = 'Yellow')\n",
    "plt.show()"
   ]
  },
  {
   "cell_type": "code",
   "execution_count": null,
   "id": "16763270",
   "metadata": {},
   "outputs": [],
   "source": []
  }
 ],
 "metadata": {
  "kernelspec": {
   "display_name": "Python 3 (ipykernel)",
   "language": "python",
   "name": "python3"
  },
  "language_info": {
   "codemirror_mode": {
    "name": "ipython",
    "version": 3
   },
   "file_extension": ".py",
   "mimetype": "text/x-python",
   "name": "python",
   "nbconvert_exporter": "python",
   "pygments_lexer": "ipython3",
   "version": "3.9.12"
  }
 },
 "nbformat": 4,
 "nbformat_minor": 5
}
